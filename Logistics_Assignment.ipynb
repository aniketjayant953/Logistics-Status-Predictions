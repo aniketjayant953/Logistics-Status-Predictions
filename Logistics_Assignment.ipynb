{
  "cells": [
    {
      "cell_type": "code",
      "execution_count": 22,
      "id": "a50c90ff",
      "metadata": {
        "id": "a50c90ff"
      },
      "outputs": [],
      "source": [
        "import json\n",
        "import pandas as pd\n",
        "import numpy as np\n",
        "\n",
        "# pd.set_option('display.max_columns', None)\n",
        "# pd.set_option('display.max_rows', None)"
      ]
    },
    {
      "cell_type": "code",
      "execution_count": 23,
      "id": "e4ec5c97",
      "metadata": {
        "colab": {
          "base_uri": "https://localhost:8080/",
          "height": 206
        },
        "id": "e4ec5c97",
        "outputId": "4ed39593-a5af-43da-e3df-bb6c1727822f"
      },
      "outputs": [
        {
          "output_type": "execute_result",
          "data": {
            "text/plain": [
              "                                      externalStatus    internalStatus\n",
              "0                                           PORT OUT          Port Out\n",
              "1                                        TERMINAL IN  Inbound Terminal\n",
              "2                                            PORT IN           Port In\n",
              "3  Vessel departure from first POL (Vessel name :...         Departure\n",
              "4  Vessel arrival at final POD (Vessel name : TIA...           Arrival"
            ],
            "text/html": [
              "\n",
              "  <div id=\"df-e5b3916e-4fb9-4f3c-8600-40256d628bbe\" class=\"colab-df-container\">\n",
              "    <div>\n",
              "<style scoped>\n",
              "    .dataframe tbody tr th:only-of-type {\n",
              "        vertical-align: middle;\n",
              "    }\n",
              "\n",
              "    .dataframe tbody tr th {\n",
              "        vertical-align: top;\n",
              "    }\n",
              "\n",
              "    .dataframe thead th {\n",
              "        text-align: right;\n",
              "    }\n",
              "</style>\n",
              "<table border=\"1\" class=\"dataframe\">\n",
              "  <thead>\n",
              "    <tr style=\"text-align: right;\">\n",
              "      <th></th>\n",
              "      <th>externalStatus</th>\n",
              "      <th>internalStatus</th>\n",
              "    </tr>\n",
              "  </thead>\n",
              "  <tbody>\n",
              "    <tr>\n",
              "      <th>0</th>\n",
              "      <td>PORT OUT</td>\n",
              "      <td>Port Out</td>\n",
              "    </tr>\n",
              "    <tr>\n",
              "      <th>1</th>\n",
              "      <td>TERMINAL IN</td>\n",
              "      <td>Inbound Terminal</td>\n",
              "    </tr>\n",
              "    <tr>\n",
              "      <th>2</th>\n",
              "      <td>PORT IN</td>\n",
              "      <td>Port In</td>\n",
              "    </tr>\n",
              "    <tr>\n",
              "      <th>3</th>\n",
              "      <td>Vessel departure from first POL (Vessel name :...</td>\n",
              "      <td>Departure</td>\n",
              "    </tr>\n",
              "    <tr>\n",
              "      <th>4</th>\n",
              "      <td>Vessel arrival at final POD (Vessel name : TIA...</td>\n",
              "      <td>Arrival</td>\n",
              "    </tr>\n",
              "  </tbody>\n",
              "</table>\n",
              "</div>\n",
              "    <div class=\"colab-df-buttons\">\n",
              "\n",
              "  <div class=\"colab-df-container\">\n",
              "    <button class=\"colab-df-convert\" onclick=\"convertToInteractive('df-e5b3916e-4fb9-4f3c-8600-40256d628bbe')\"\n",
              "            title=\"Convert this dataframe to an interactive table.\"\n",
              "            style=\"display:none;\">\n",
              "\n",
              "  <svg xmlns=\"http://www.w3.org/2000/svg\" height=\"24px\" viewBox=\"0 -960 960 960\">\n",
              "    <path d=\"M120-120v-720h720v720H120Zm60-500h600v-160H180v160Zm220 220h160v-160H400v160Zm0 220h160v-160H400v160ZM180-400h160v-160H180v160Zm440 0h160v-160H620v160ZM180-180h160v-160H180v160Zm440 0h160v-160H620v160Z\"/>\n",
              "  </svg>\n",
              "    </button>\n",
              "\n",
              "  <style>\n",
              "    .colab-df-container {\n",
              "      display:flex;\n",
              "      gap: 12px;\n",
              "    }\n",
              "\n",
              "    .colab-df-convert {\n",
              "      background-color: #E8F0FE;\n",
              "      border: none;\n",
              "      border-radius: 50%;\n",
              "      cursor: pointer;\n",
              "      display: none;\n",
              "      fill: #1967D2;\n",
              "      height: 32px;\n",
              "      padding: 0 0 0 0;\n",
              "      width: 32px;\n",
              "    }\n",
              "\n",
              "    .colab-df-convert:hover {\n",
              "      background-color: #E2EBFA;\n",
              "      box-shadow: 0px 1px 2px rgba(60, 64, 67, 0.3), 0px 1px 3px 1px rgba(60, 64, 67, 0.15);\n",
              "      fill: #174EA6;\n",
              "    }\n",
              "\n",
              "    .colab-df-buttons div {\n",
              "      margin-bottom: 4px;\n",
              "    }\n",
              "\n",
              "    [theme=dark] .colab-df-convert {\n",
              "      background-color: #3B4455;\n",
              "      fill: #D2E3FC;\n",
              "    }\n",
              "\n",
              "    [theme=dark] .colab-df-convert:hover {\n",
              "      background-color: #434B5C;\n",
              "      box-shadow: 0px 1px 3px 1px rgba(0, 0, 0, 0.15);\n",
              "      filter: drop-shadow(0px 1px 2px rgba(0, 0, 0, 0.3));\n",
              "      fill: #FFFFFF;\n",
              "    }\n",
              "  </style>\n",
              "\n",
              "    <script>\n",
              "      const buttonEl =\n",
              "        document.querySelector('#df-e5b3916e-4fb9-4f3c-8600-40256d628bbe button.colab-df-convert');\n",
              "      buttonEl.style.display =\n",
              "        google.colab.kernel.accessAllowed ? 'block' : 'none';\n",
              "\n",
              "      async function convertToInteractive(key) {\n",
              "        const element = document.querySelector('#df-e5b3916e-4fb9-4f3c-8600-40256d628bbe');\n",
              "        const dataTable =\n",
              "          await google.colab.kernel.invokeFunction('convertToInteractive',\n",
              "                                                    [key], {});\n",
              "        if (!dataTable) return;\n",
              "\n",
              "        const docLinkHtml = 'Like what you see? Visit the ' +\n",
              "          '<a target=\"_blank\" href=https://colab.research.google.com/notebooks/data_table.ipynb>data table notebook</a>'\n",
              "          + ' to learn more about interactive tables.';\n",
              "        element.innerHTML = '';\n",
              "        dataTable['output_type'] = 'display_data';\n",
              "        await google.colab.output.renderOutput(dataTable, element);\n",
              "        const docLink = document.createElement('div');\n",
              "        docLink.innerHTML = docLinkHtml;\n",
              "        element.appendChild(docLink);\n",
              "      }\n",
              "    </script>\n",
              "  </div>\n",
              "\n",
              "\n",
              "<div id=\"df-3a19c34d-4ae9-4a8a-afc9-61b0f9e63089\">\n",
              "  <button class=\"colab-df-quickchart\" onclick=\"quickchart('df-3a19c34d-4ae9-4a8a-afc9-61b0f9e63089')\"\n",
              "            title=\"Suggest charts\"\n",
              "            style=\"display:none;\">\n",
              "\n",
              "<svg xmlns=\"http://www.w3.org/2000/svg\" height=\"24px\"viewBox=\"0 0 24 24\"\n",
              "     width=\"24px\">\n",
              "    <g>\n",
              "        <path d=\"M19 3H5c-1.1 0-2 .9-2 2v14c0 1.1.9 2 2 2h14c1.1 0 2-.9 2-2V5c0-1.1-.9-2-2-2zM9 17H7v-7h2v7zm4 0h-2V7h2v10zm4 0h-2v-4h2v4z\"/>\n",
              "    </g>\n",
              "</svg>\n",
              "  </button>\n",
              "\n",
              "<style>\n",
              "  .colab-df-quickchart {\n",
              "      --bg-color: #E8F0FE;\n",
              "      --fill-color: #1967D2;\n",
              "      --hover-bg-color: #E2EBFA;\n",
              "      --hover-fill-color: #174EA6;\n",
              "      --disabled-fill-color: #AAA;\n",
              "      --disabled-bg-color: #DDD;\n",
              "  }\n",
              "\n",
              "  [theme=dark] .colab-df-quickchart {\n",
              "      --bg-color: #3B4455;\n",
              "      --fill-color: #D2E3FC;\n",
              "      --hover-bg-color: #434B5C;\n",
              "      --hover-fill-color: #FFFFFF;\n",
              "      --disabled-bg-color: #3B4455;\n",
              "      --disabled-fill-color: #666;\n",
              "  }\n",
              "\n",
              "  .colab-df-quickchart {\n",
              "    background-color: var(--bg-color);\n",
              "    border: none;\n",
              "    border-radius: 50%;\n",
              "    cursor: pointer;\n",
              "    display: none;\n",
              "    fill: var(--fill-color);\n",
              "    height: 32px;\n",
              "    padding: 0;\n",
              "    width: 32px;\n",
              "  }\n",
              "\n",
              "  .colab-df-quickchart:hover {\n",
              "    background-color: var(--hover-bg-color);\n",
              "    box-shadow: 0 1px 2px rgba(60, 64, 67, 0.3), 0 1px 3px 1px rgba(60, 64, 67, 0.15);\n",
              "    fill: var(--button-hover-fill-color);\n",
              "  }\n",
              "\n",
              "  .colab-df-quickchart-complete:disabled,\n",
              "  .colab-df-quickchart-complete:disabled:hover {\n",
              "    background-color: var(--disabled-bg-color);\n",
              "    fill: var(--disabled-fill-color);\n",
              "    box-shadow: none;\n",
              "  }\n",
              "\n",
              "  .colab-df-spinner {\n",
              "    border: 2px solid var(--fill-color);\n",
              "    border-color: transparent;\n",
              "    border-bottom-color: var(--fill-color);\n",
              "    animation:\n",
              "      spin 1s steps(1) infinite;\n",
              "  }\n",
              "\n",
              "  @keyframes spin {\n",
              "    0% {\n",
              "      border-color: transparent;\n",
              "      border-bottom-color: var(--fill-color);\n",
              "      border-left-color: var(--fill-color);\n",
              "    }\n",
              "    20% {\n",
              "      border-color: transparent;\n",
              "      border-left-color: var(--fill-color);\n",
              "      border-top-color: var(--fill-color);\n",
              "    }\n",
              "    30% {\n",
              "      border-color: transparent;\n",
              "      border-left-color: var(--fill-color);\n",
              "      border-top-color: var(--fill-color);\n",
              "      border-right-color: var(--fill-color);\n",
              "    }\n",
              "    40% {\n",
              "      border-color: transparent;\n",
              "      border-right-color: var(--fill-color);\n",
              "      border-top-color: var(--fill-color);\n",
              "    }\n",
              "    60% {\n",
              "      border-color: transparent;\n",
              "      border-right-color: var(--fill-color);\n",
              "    }\n",
              "    80% {\n",
              "      border-color: transparent;\n",
              "      border-right-color: var(--fill-color);\n",
              "      border-bottom-color: var(--fill-color);\n",
              "    }\n",
              "    90% {\n",
              "      border-color: transparent;\n",
              "      border-bottom-color: var(--fill-color);\n",
              "    }\n",
              "  }\n",
              "</style>\n",
              "\n",
              "  <script>\n",
              "    async function quickchart(key) {\n",
              "      const quickchartButtonEl =\n",
              "        document.querySelector('#' + key + ' button');\n",
              "      quickchartButtonEl.disabled = true;  // To prevent multiple clicks.\n",
              "      quickchartButtonEl.classList.add('colab-df-spinner');\n",
              "      try {\n",
              "        const charts = await google.colab.kernel.invokeFunction(\n",
              "            'suggestCharts', [key], {});\n",
              "      } catch (error) {\n",
              "        console.error('Error during call to suggestCharts:', error);\n",
              "      }\n",
              "      quickchartButtonEl.classList.remove('colab-df-spinner');\n",
              "      quickchartButtonEl.classList.add('colab-df-quickchart-complete');\n",
              "    }\n",
              "    (() => {\n",
              "      let quickchartButtonEl =\n",
              "        document.querySelector('#df-3a19c34d-4ae9-4a8a-afc9-61b0f9e63089 button');\n",
              "      quickchartButtonEl.style.display =\n",
              "        google.colab.kernel.accessAllowed ? 'block' : 'none';\n",
              "    })();\n",
              "  </script>\n",
              "</div>\n",
              "\n",
              "    </div>\n",
              "  </div>\n"
            ],
            "application/vnd.google.colaboratory.intrinsic+json": {
              "type": "dataframe",
              "variable_name": "df",
              "summary": "{\n  \"name\": \"df\",\n  \"rows\": 1222,\n  \"fields\": [\n    {\n      \"column\": \"externalStatus\",\n      \"properties\": {\n        \"dtype\": \"category\",\n        \"num_unique_values\": 108,\n        \"samples\": [\n          \"Import Loaded on Rail\",\n          \"Load on MSC SVEVA / 248E\",\n          \"Vessel arrival at final POD (Vessel name : TIAN FU HE)\"\n        ],\n        \"semantic_type\": \"\",\n        \"description\": \"\"\n      }\n    },\n    {\n      \"column\": \"internalStatus\",\n      \"properties\": {\n        \"dtype\": \"category\",\n        \"num_unique_values\": 15,\n        \"samples\": [\n          \"Off Rail\",\n          \"In-transit\",\n          \"Port Out\"\n        ],\n        \"semantic_type\": \"\",\n        \"description\": \"\"\n      }\n    }\n  ]\n}"
            }
          },
          "metadata": {},
          "execution_count": 23
        }
      ],
      "source": [
        "df = pd.read_json(\"https://gist.githubusercontent.com/farhaan-settyl/ecf9c1e7ab7374f18e4400b7a3d2a161/raw/f94652f217eeca83e36dab9d08727caf79ebdecf/dataset.json\")\n",
        "df.head()"
      ]
    },
    {
      "cell_type": "code",
      "execution_count": 24,
      "id": "436775f7",
      "metadata": {
        "colab": {
          "base_uri": "https://localhost:8080/"
        },
        "id": "436775f7",
        "outputId": "91577432-a05c-44c5-ad8c-f719d8819dfc"
      },
      "outputs": [
        {
          "output_type": "execute_result",
          "data": {
            "text/plain": [
              "(1222, 2)"
            ]
          },
          "metadata": {},
          "execution_count": 24
        }
      ],
      "source": [
        "df.shape"
      ]
    },
    {
      "cell_type": "code",
      "execution_count": 25,
      "id": "585e3f05",
      "metadata": {
        "colab": {
          "base_uri": "https://localhost:8080/"
        },
        "id": "585e3f05",
        "outputId": "210b9597-1a17-4fcb-a988-5df67253ffc8"
      },
      "outputs": [
        {
          "output_type": "execute_result",
          "data": {
            "text/plain": [
              "externalStatus    0\n",
              "internalStatus    0\n",
              "dtype: int64"
            ]
          },
          "metadata": {},
          "execution_count": 25
        }
      ],
      "source": [
        "df.isnull().sum()"
      ]
    },
    {
      "cell_type": "code",
      "execution_count": 26,
      "id": "17c3e0b4",
      "metadata": {
        "colab": {
          "base_uri": "https://localhost:8080/"
        },
        "id": "17c3e0b4",
        "outputId": "b5f9d00e-a68c-41c5-c4ea-136a0e8d1c73"
      },
      "outputs": [
        {
          "output_type": "stream",
          "name": "stdout",
          "text": [
            "<class 'pandas.core.frame.DataFrame'>\n",
            "RangeIndex: 1222 entries, 0 to 1221\n",
            "Data columns (total 2 columns):\n",
            " #   Column          Non-Null Count  Dtype \n",
            "---  ------          --------------  ----- \n",
            " 0   externalStatus  1222 non-null   object\n",
            " 1   internalStatus  1222 non-null   object\n",
            "dtypes: object(2)\n",
            "memory usage: 19.2+ KB\n"
          ]
        }
      ],
      "source": [
        "df.info()"
      ]
    },
    {
      "cell_type": "code",
      "execution_count": 27,
      "id": "f22fac68",
      "metadata": {
        "colab": {
          "base_uri": "https://localhost:8080/"
        },
        "id": "f22fac68",
        "outputId": "3a12cb58-7dda-48f1-b086-cee6efe964c0"
      },
      "outputs": [
        {
          "output_type": "execute_result",
          "data": {
            "text/plain": [
              "1114"
            ]
          },
          "metadata": {},
          "execution_count": 27
        }
      ],
      "source": [
        "df.duplicated().sum()"
      ]
    },
    {
      "cell_type": "code",
      "execution_count": 28,
      "id": "5523b55c",
      "metadata": {
        "colab": {
          "base_uri": "https://localhost:8080/"
        },
        "id": "5523b55c",
        "outputId": "470622fa-e10f-4164-f76c-d4eede17c881",
        "scrolled": true
      },
      "outputs": [
        {
          "output_type": "execute_result",
          "data": {
            "text/plain": [
              "externalStatus\n",
              "Gate out                                                            144\n",
              "Gate in                                                             143\n",
              "Discharge                                                           141\n",
              "Actual time of departure                                             50\n",
              "DEPARTCU                                                             43\n",
              "                                                                   ... \n",
              "Unloaded from 'YM PLUM 175W' at Port of Discharging YM PLUM 175W      1\n",
              "Discharge (Vessel name : MSC ORION)                                   1\n",
              "Load (Vessel name : ELBWATER)                                         1\n",
              "Discharge (Vessel name : ELBWATER)                                    1\n",
              "Load on MSC ALEXANDRA / 248W                                          1\n",
              "Name: count, Length: 108, dtype: int64"
            ]
          },
          "metadata": {},
          "execution_count": 28
        }
      ],
      "source": [
        "df['externalStatus'].value_counts()"
      ]
    },
    {
      "cell_type": "code",
      "execution_count": 29,
      "id": "3f7633c6",
      "metadata": {
        "colab": {
          "base_uri": "https://localhost:8080/"
        },
        "id": "3f7633c6",
        "outputId": "fbbd091b-4319-4443-d928-1353301fb4ef"
      },
      "outputs": [
        {
          "output_type": "execute_result",
          "data": {
            "text/plain": [
              "internalStatus\n",
              "Loaded on Vessel            331\n",
              "Departure                   287\n",
              "Gate Out                    146\n",
              "Gate In                     143\n",
              "Arrival                      62\n",
              "Empty Return                 47\n",
              "Empty Container Released     47\n",
              "Unloaded on Vessel           37\n",
              "Off Rail                     25\n",
              "On Rail                      25\n",
              "Outbound Terminal            24\n",
              "Port Out                     15\n",
              "Port In                      14\n",
              "In-transit                   10\n",
              "Inbound Terminal              9\n",
              "Name: count, dtype: int64"
            ]
          },
          "metadata": {},
          "execution_count": 29
        }
      ],
      "source": [
        "df.internalStatus.value_counts()"
      ]
    },
    {
      "cell_type": "markdown",
      "id": "c60a1303",
      "metadata": {
        "id": "c60a1303"
      },
      "source": [
        "# Preprocessing Steps"
      ]
    },
    {
      "cell_type": "code",
      "execution_count": 30,
      "id": "8a2f87d5",
      "metadata": {
        "id": "8a2f87d5"
      },
      "outputs": [],
      "source": [
        "# Cleaning the data\n",
        "import re\n",
        "\n",
        "def clean(text):\n",
        "    # Abbrevation handling\n",
        "    text = text.replace('POL',\"Port of Landing\")\n",
        "    text = text.replace('POD',\"Port of Discharge\")\n",
        "    text = text.replace('DEPARTCU',\"Departure\")\n",
        "    text = text.replace('CY',\"Container Yard\")\n",
        "    text = text.replace('CFS',\"Container Freight Station\")\n",
        "    text = text.replace('T/S',\"TransShipment\")\n",
        "\n",
        "    #removing unnecessary chars\n",
        "    text = text.replace('/','')\n",
        "\n",
        "    # some text that is import to keep so that it wont get removed while cleaning\n",
        "    not_to_remove = ['TERMINAL','OUT','PORT','IN','TOLL','PLAZA','CROSSED','GATE']\n",
        "\n",
        "    for i in text.split():\n",
        "        if i in not_to_remove:\n",
        "            text = text.replace(i,i.lower())\n",
        "\n",
        "    # removing quotes text and text in brackets which usually have vessels name\n",
        "    quote_pattern = r\"'([^']*)'\"\n",
        "    text = re.sub(quote_pattern, '', text)\n",
        "\n",
        "    brackets_pattern = r'\\(([^)]*)\\)'\n",
        "    text = re.sub(brackets_pattern, '', text)\n",
        "\n",
        "    # removing digits and capitalized words which are mostly names of ports and places\n",
        "    text = re.sub(r'\\b[A-Z]+\\b', '', text)\n",
        "\n",
        "    text = re.sub(r'\\b\\w+\\d+\\w*\\b', '', text)\n",
        "\n",
        "\n",
        "    return text.strip().lower()\n"
      ]
    },
    {
      "cell_type": "code",
      "execution_count": 31,
      "id": "e4ca2e68",
      "metadata": {
        "id": "e4ca2e68"
      },
      "outputs": [],
      "source": [
        "df['cleaned'] = df.externalStatus.apply(clean)"
      ]
    },
    {
      "cell_type": "code",
      "source": [
        "df.head()"
      ],
      "metadata": {
        "colab": {
          "base_uri": "https://localhost:8080/",
          "height": 206
        },
        "id": "pjzh2hfWyxTY",
        "outputId": "5ebe7596-5811-4992-e05e-84df9c68941c"
      },
      "id": "pjzh2hfWyxTY",
      "execution_count": 32,
      "outputs": [
        {
          "output_type": "execute_result",
          "data": {
            "text/plain": [
              "                                      externalStatus    internalStatus  \\\n",
              "0                                           PORT OUT          Port Out   \n",
              "1                                        TERMINAL IN  Inbound Terminal   \n",
              "2                                            PORT IN           Port In   \n",
              "3  Vessel departure from first POL (Vessel name :...         Departure   \n",
              "4  Vessel arrival at final POD (Vessel name : TIA...           Arrival   \n",
              "\n",
              "                                       cleaned  \n",
              "0                                     port out  \n",
              "1                                  terminal in  \n",
              "2                                      port in  \n",
              "3  vessel departure from first port of landing  \n",
              "4    vessel arrival at final port of discharge  "
            ],
            "text/html": [
              "\n",
              "  <div id=\"df-7b48eccc-8162-49d3-85c0-866afa9e1242\" class=\"colab-df-container\">\n",
              "    <div>\n",
              "<style scoped>\n",
              "    .dataframe tbody tr th:only-of-type {\n",
              "        vertical-align: middle;\n",
              "    }\n",
              "\n",
              "    .dataframe tbody tr th {\n",
              "        vertical-align: top;\n",
              "    }\n",
              "\n",
              "    .dataframe thead th {\n",
              "        text-align: right;\n",
              "    }\n",
              "</style>\n",
              "<table border=\"1\" class=\"dataframe\">\n",
              "  <thead>\n",
              "    <tr style=\"text-align: right;\">\n",
              "      <th></th>\n",
              "      <th>externalStatus</th>\n",
              "      <th>internalStatus</th>\n",
              "      <th>cleaned</th>\n",
              "    </tr>\n",
              "  </thead>\n",
              "  <tbody>\n",
              "    <tr>\n",
              "      <th>0</th>\n",
              "      <td>PORT OUT</td>\n",
              "      <td>Port Out</td>\n",
              "      <td>port out</td>\n",
              "    </tr>\n",
              "    <tr>\n",
              "      <th>1</th>\n",
              "      <td>TERMINAL IN</td>\n",
              "      <td>Inbound Terminal</td>\n",
              "      <td>terminal in</td>\n",
              "    </tr>\n",
              "    <tr>\n",
              "      <th>2</th>\n",
              "      <td>PORT IN</td>\n",
              "      <td>Port In</td>\n",
              "      <td>port in</td>\n",
              "    </tr>\n",
              "    <tr>\n",
              "      <th>3</th>\n",
              "      <td>Vessel departure from first POL (Vessel name :...</td>\n",
              "      <td>Departure</td>\n",
              "      <td>vessel departure from first port of landing</td>\n",
              "    </tr>\n",
              "    <tr>\n",
              "      <th>4</th>\n",
              "      <td>Vessel arrival at final POD (Vessel name : TIA...</td>\n",
              "      <td>Arrival</td>\n",
              "      <td>vessel arrival at final port of discharge</td>\n",
              "    </tr>\n",
              "  </tbody>\n",
              "</table>\n",
              "</div>\n",
              "    <div class=\"colab-df-buttons\">\n",
              "\n",
              "  <div class=\"colab-df-container\">\n",
              "    <button class=\"colab-df-convert\" onclick=\"convertToInteractive('df-7b48eccc-8162-49d3-85c0-866afa9e1242')\"\n",
              "            title=\"Convert this dataframe to an interactive table.\"\n",
              "            style=\"display:none;\">\n",
              "\n",
              "  <svg xmlns=\"http://www.w3.org/2000/svg\" height=\"24px\" viewBox=\"0 -960 960 960\">\n",
              "    <path d=\"M120-120v-720h720v720H120Zm60-500h600v-160H180v160Zm220 220h160v-160H400v160Zm0 220h160v-160H400v160ZM180-400h160v-160H180v160Zm440 0h160v-160H620v160ZM180-180h160v-160H180v160Zm440 0h160v-160H620v160Z\"/>\n",
              "  </svg>\n",
              "    </button>\n",
              "\n",
              "  <style>\n",
              "    .colab-df-container {\n",
              "      display:flex;\n",
              "      gap: 12px;\n",
              "    }\n",
              "\n",
              "    .colab-df-convert {\n",
              "      background-color: #E8F0FE;\n",
              "      border: none;\n",
              "      border-radius: 50%;\n",
              "      cursor: pointer;\n",
              "      display: none;\n",
              "      fill: #1967D2;\n",
              "      height: 32px;\n",
              "      padding: 0 0 0 0;\n",
              "      width: 32px;\n",
              "    }\n",
              "\n",
              "    .colab-df-convert:hover {\n",
              "      background-color: #E2EBFA;\n",
              "      box-shadow: 0px 1px 2px rgba(60, 64, 67, 0.3), 0px 1px 3px 1px rgba(60, 64, 67, 0.15);\n",
              "      fill: #174EA6;\n",
              "    }\n",
              "\n",
              "    .colab-df-buttons div {\n",
              "      margin-bottom: 4px;\n",
              "    }\n",
              "\n",
              "    [theme=dark] .colab-df-convert {\n",
              "      background-color: #3B4455;\n",
              "      fill: #D2E3FC;\n",
              "    }\n",
              "\n",
              "    [theme=dark] .colab-df-convert:hover {\n",
              "      background-color: #434B5C;\n",
              "      box-shadow: 0px 1px 3px 1px rgba(0, 0, 0, 0.15);\n",
              "      filter: drop-shadow(0px 1px 2px rgba(0, 0, 0, 0.3));\n",
              "      fill: #FFFFFF;\n",
              "    }\n",
              "  </style>\n",
              "\n",
              "    <script>\n",
              "      const buttonEl =\n",
              "        document.querySelector('#df-7b48eccc-8162-49d3-85c0-866afa9e1242 button.colab-df-convert');\n",
              "      buttonEl.style.display =\n",
              "        google.colab.kernel.accessAllowed ? 'block' : 'none';\n",
              "\n",
              "      async function convertToInteractive(key) {\n",
              "        const element = document.querySelector('#df-7b48eccc-8162-49d3-85c0-866afa9e1242');\n",
              "        const dataTable =\n",
              "          await google.colab.kernel.invokeFunction('convertToInteractive',\n",
              "                                                    [key], {});\n",
              "        if (!dataTable) return;\n",
              "\n",
              "        const docLinkHtml = 'Like what you see? Visit the ' +\n",
              "          '<a target=\"_blank\" href=https://colab.research.google.com/notebooks/data_table.ipynb>data table notebook</a>'\n",
              "          + ' to learn more about interactive tables.';\n",
              "        element.innerHTML = '';\n",
              "        dataTable['output_type'] = 'display_data';\n",
              "        await google.colab.output.renderOutput(dataTable, element);\n",
              "        const docLink = document.createElement('div');\n",
              "        docLink.innerHTML = docLinkHtml;\n",
              "        element.appendChild(docLink);\n",
              "      }\n",
              "    </script>\n",
              "  </div>\n",
              "\n",
              "\n",
              "<div id=\"df-bc1fdd47-dc49-43fc-bc2d-66e2356633f8\">\n",
              "  <button class=\"colab-df-quickchart\" onclick=\"quickchart('df-bc1fdd47-dc49-43fc-bc2d-66e2356633f8')\"\n",
              "            title=\"Suggest charts\"\n",
              "            style=\"display:none;\">\n",
              "\n",
              "<svg xmlns=\"http://www.w3.org/2000/svg\" height=\"24px\"viewBox=\"0 0 24 24\"\n",
              "     width=\"24px\">\n",
              "    <g>\n",
              "        <path d=\"M19 3H5c-1.1 0-2 .9-2 2v14c0 1.1.9 2 2 2h14c1.1 0 2-.9 2-2V5c0-1.1-.9-2-2-2zM9 17H7v-7h2v7zm4 0h-2V7h2v10zm4 0h-2v-4h2v4z\"/>\n",
              "    </g>\n",
              "</svg>\n",
              "  </button>\n",
              "\n",
              "<style>\n",
              "  .colab-df-quickchart {\n",
              "      --bg-color: #E8F0FE;\n",
              "      --fill-color: #1967D2;\n",
              "      --hover-bg-color: #E2EBFA;\n",
              "      --hover-fill-color: #174EA6;\n",
              "      --disabled-fill-color: #AAA;\n",
              "      --disabled-bg-color: #DDD;\n",
              "  }\n",
              "\n",
              "  [theme=dark] .colab-df-quickchart {\n",
              "      --bg-color: #3B4455;\n",
              "      --fill-color: #D2E3FC;\n",
              "      --hover-bg-color: #434B5C;\n",
              "      --hover-fill-color: #FFFFFF;\n",
              "      --disabled-bg-color: #3B4455;\n",
              "      --disabled-fill-color: #666;\n",
              "  }\n",
              "\n",
              "  .colab-df-quickchart {\n",
              "    background-color: var(--bg-color);\n",
              "    border: none;\n",
              "    border-radius: 50%;\n",
              "    cursor: pointer;\n",
              "    display: none;\n",
              "    fill: var(--fill-color);\n",
              "    height: 32px;\n",
              "    padding: 0;\n",
              "    width: 32px;\n",
              "  }\n",
              "\n",
              "  .colab-df-quickchart:hover {\n",
              "    background-color: var(--hover-bg-color);\n",
              "    box-shadow: 0 1px 2px rgba(60, 64, 67, 0.3), 0 1px 3px 1px rgba(60, 64, 67, 0.15);\n",
              "    fill: var(--button-hover-fill-color);\n",
              "  }\n",
              "\n",
              "  .colab-df-quickchart-complete:disabled,\n",
              "  .colab-df-quickchart-complete:disabled:hover {\n",
              "    background-color: var(--disabled-bg-color);\n",
              "    fill: var(--disabled-fill-color);\n",
              "    box-shadow: none;\n",
              "  }\n",
              "\n",
              "  .colab-df-spinner {\n",
              "    border: 2px solid var(--fill-color);\n",
              "    border-color: transparent;\n",
              "    border-bottom-color: var(--fill-color);\n",
              "    animation:\n",
              "      spin 1s steps(1) infinite;\n",
              "  }\n",
              "\n",
              "  @keyframes spin {\n",
              "    0% {\n",
              "      border-color: transparent;\n",
              "      border-bottom-color: var(--fill-color);\n",
              "      border-left-color: var(--fill-color);\n",
              "    }\n",
              "    20% {\n",
              "      border-color: transparent;\n",
              "      border-left-color: var(--fill-color);\n",
              "      border-top-color: var(--fill-color);\n",
              "    }\n",
              "    30% {\n",
              "      border-color: transparent;\n",
              "      border-left-color: var(--fill-color);\n",
              "      border-top-color: var(--fill-color);\n",
              "      border-right-color: var(--fill-color);\n",
              "    }\n",
              "    40% {\n",
              "      border-color: transparent;\n",
              "      border-right-color: var(--fill-color);\n",
              "      border-top-color: var(--fill-color);\n",
              "    }\n",
              "    60% {\n",
              "      border-color: transparent;\n",
              "      border-right-color: var(--fill-color);\n",
              "    }\n",
              "    80% {\n",
              "      border-color: transparent;\n",
              "      border-right-color: var(--fill-color);\n",
              "      border-bottom-color: var(--fill-color);\n",
              "    }\n",
              "    90% {\n",
              "      border-color: transparent;\n",
              "      border-bottom-color: var(--fill-color);\n",
              "    }\n",
              "  }\n",
              "</style>\n",
              "\n",
              "  <script>\n",
              "    async function quickchart(key) {\n",
              "      const quickchartButtonEl =\n",
              "        document.querySelector('#' + key + ' button');\n",
              "      quickchartButtonEl.disabled = true;  // To prevent multiple clicks.\n",
              "      quickchartButtonEl.classList.add('colab-df-spinner');\n",
              "      try {\n",
              "        const charts = await google.colab.kernel.invokeFunction(\n",
              "            'suggestCharts', [key], {});\n",
              "      } catch (error) {\n",
              "        console.error('Error during call to suggestCharts:', error);\n",
              "      }\n",
              "      quickchartButtonEl.classList.remove('colab-df-spinner');\n",
              "      quickchartButtonEl.classList.add('colab-df-quickchart-complete');\n",
              "    }\n",
              "    (() => {\n",
              "      let quickchartButtonEl =\n",
              "        document.querySelector('#df-bc1fdd47-dc49-43fc-bc2d-66e2356633f8 button');\n",
              "      quickchartButtonEl.style.display =\n",
              "        google.colab.kernel.accessAllowed ? 'block' : 'none';\n",
              "    })();\n",
              "  </script>\n",
              "</div>\n",
              "\n",
              "    </div>\n",
              "  </div>\n"
            ],
            "application/vnd.google.colaboratory.intrinsic+json": {
              "type": "dataframe",
              "variable_name": "df",
              "summary": "{\n  \"name\": \"df\",\n  \"rows\": 1222,\n  \"fields\": [\n    {\n      \"column\": \"externalStatus\",\n      \"properties\": {\n        \"dtype\": \"category\",\n        \"num_unique_values\": 108,\n        \"samples\": [\n          \"Import Loaded on Rail\",\n          \"Load on MSC SVEVA / 248E\",\n          \"Vessel arrival at final POD (Vessel name : TIAN FU HE)\"\n        ],\n        \"semantic_type\": \"\",\n        \"description\": \"\"\n      }\n    },\n    {\n      \"column\": \"internalStatus\",\n      \"properties\": {\n        \"dtype\": \"category\",\n        \"num_unique_values\": 15,\n        \"samples\": [\n          \"Off Rail\",\n          \"In-transit\",\n          \"Port Out\"\n        ],\n        \"semantic_type\": \"\",\n        \"description\": \"\"\n      }\n    },\n    {\n      \"column\": \"cleaned\",\n      \"properties\": {\n        \"dtype\": \"category\",\n        \"num_unique_values\": 57,\n        \"samples\": [\n          \"port out\",\n          \"departure\",\n          \"gate out from outbound container yard\"\n        ],\n        \"semantic_type\": \"\",\n        \"description\": \"\"\n      }\n    }\n  ]\n}"
            }
          },
          "metadata": {},
          "execution_count": 32
        }
      ]
    },
    {
      "cell_type": "code",
      "execution_count": 33,
      "id": "0ed32029",
      "metadata": {
        "id": "0ed32029"
      },
      "outputs": [],
      "source": [
        "X = df['cleaned']\n",
        "y = df['internalStatus']"
      ]
    },
    {
      "cell_type": "code",
      "execution_count": 34,
      "id": "d02ebcae",
      "metadata": {
        "id": "d02ebcae"
      },
      "outputs": [],
      "source": [
        "from sklearn.feature_extraction.text import CountVectorizer\n",
        "\n",
        "cv = CountVectorizer()\n",
        "X = cv.fit_transform(X).toarray()"
      ]
    },
    {
      "cell_type": "code",
      "execution_count": 35,
      "id": "c4bf9782",
      "metadata": {
        "id": "c4bf9782"
      },
      "outputs": [],
      "source": [
        "from sklearn.preprocessing import LabelEncoder\n",
        "\n",
        "encoder = LabelEncoder()\n",
        "y = encoder.fit_transform(y)"
      ]
    },
    {
      "cell_type": "code",
      "execution_count": 36,
      "id": "75292e33",
      "metadata": {
        "colab": {
          "base_uri": "https://localhost:8080/"
        },
        "id": "75292e33",
        "outputId": "d6097d8b-dcef-47e0-adb4-a41f8f74d677"
      },
      "outputs": [
        {
          "output_type": "execute_result",
          "data": {
            "text/plain": [
              "array([[0, 0, 0, ..., 0, 0, 0],\n",
              "       [0, 0, 0, ..., 0, 0, 0],\n",
              "       [0, 0, 0, ..., 0, 0, 0],\n",
              "       ...,\n",
              "       [0, 0, 0, ..., 0, 0, 0],\n",
              "       [0, 0, 0, ..., 0, 1, 0],\n",
              "       [0, 0, 0, ..., 0, 0, 0]])"
            ]
          },
          "metadata": {},
          "execution_count": 36
        }
      ],
      "source": [
        "X"
      ]
    },
    {
      "cell_type": "code",
      "execution_count": 37,
      "id": "61b443e1",
      "metadata": {
        "colab": {
          "base_uri": "https://localhost:8080/"
        },
        "id": "61b443e1",
        "outputId": "546f3920-de89-4a92-c37b-572bc163684f"
      },
      "outputs": [
        {
          "output_type": "execute_result",
          "data": {
            "text/plain": [
              "array([13,  7, 12, ...,  8,  8,  2])"
            ]
          },
          "metadata": {},
          "execution_count": 37
        }
      ],
      "source": [
        "y"
      ]
    },
    {
      "cell_type": "code",
      "execution_count": 38,
      "id": "e2498eca",
      "metadata": {
        "id": "e2498eca"
      },
      "outputs": [],
      "source": [
        "from sklearn.model_selection import train_test_split\n",
        "X_train,X_test,y_train,y_test = train_test_split(X,y, random_state=42, test_size=0.2)"
      ]
    },
    {
      "cell_type": "markdown",
      "id": "4c1e29bb",
      "metadata": {
        "id": "4c1e29bb"
      },
      "source": [
        "#  Machine Learning Approach"
      ]
    },
    {
      "cell_type": "markdown",
      "id": "1604f1af",
      "metadata": {
        "id": "1604f1af"
      },
      "source": [
        "### Random Forest"
      ]
    },
    {
      "cell_type": "code",
      "execution_count": 39,
      "id": "741adca5",
      "metadata": {
        "colab": {
          "base_uri": "https://localhost:8080/"
        },
        "id": "741adca5",
        "outputId": "a1ea43ed-3366-487f-d3bd-0e5be9ee05e6"
      },
      "outputs": [
        {
          "output_type": "execute_result",
          "data": {
            "text/plain": [
              "0.9959183673469387"
            ]
          },
          "metadata": {},
          "execution_count": 39
        }
      ],
      "source": [
        "from sklearn.ensemble import RandomForestClassifier\n",
        "from sklearn.metrics import accuracy_score\n",
        "rf = RandomForestClassifier()\n",
        "rf.fit(X_train,y_train)\n",
        "y_pred = rf.predict(X_test)\n",
        "accuracy_score(y_test,y_pred)"
      ]
    },
    {
      "cell_type": "code",
      "execution_count": 40,
      "id": "e85b934a",
      "metadata": {
        "colab": {
          "base_uri": "https://localhost:8080/"
        },
        "id": "e85b934a",
        "outputId": "9caa1aaa-d284-4afe-bc0d-eec120491454"
      },
      "outputs": [
        {
          "output_type": "execute_result",
          "data": {
            "text/plain": [
              "1.0"
            ]
          },
          "metadata": {},
          "execution_count": 40
        }
      ],
      "source": [
        "rf_prediction_train =  rf.predict(X_train)\n",
        "accuracy_score(rf_prediction_train,y_train)"
      ]
    },
    {
      "cell_type": "markdown",
      "id": "a4975d82",
      "metadata": {
        "id": "a4975d82"
      },
      "source": [
        "#### This shows that if machine learning models are performing well its no doubt that Deep learning models will not give good results\n"
      ]
    },
    {
      "cell_type": "markdown",
      "id": "_pjm29T6_vPY",
      "metadata": {
        "id": "_pjm29T6_vPY"
      },
      "source": [
        "# Deep Learning Approach"
      ]
    },
    {
      "cell_type": "code",
      "execution_count": 51,
      "id": "JT6BR50eR8Pv",
      "metadata": {
        "id": "JT6BR50eR8Pv"
      },
      "outputs": [],
      "source": [
        "X = df['cleaned']\n",
        "y = df['internalStatus']"
      ]
    },
    {
      "cell_type": "code",
      "execution_count": 52,
      "id": "BoIsd24pR_T4",
      "metadata": {
        "id": "BoIsd24pR_T4"
      },
      "outputs": [],
      "source": [
        "# label encoding and performing one hot on labels for deep learning models\n",
        "from sklearn.preprocessing import LabelEncoder\n",
        "from tensorflow.keras.utils import to_categorical\n",
        "\n",
        "encoder = LabelEncoder()\n",
        "y = encoder.fit_transform(y)\n",
        "\n",
        "y_true_one_hot = to_categorical(y, num_classes=15)"
      ]
    },
    {
      "cell_type": "code",
      "execution_count": 53,
      "id": "VE69wueYvjAd",
      "metadata": {
        "colab": {
          "base_uri": "https://localhost:8080/"
        },
        "id": "VE69wueYvjAd",
        "outputId": "86751534-d0c4-4109-f4b7-a12b28630851"
      },
      "outputs": [
        {
          "output_type": "execute_result",
          "data": {
            "text/plain": [
              "array([[0., 0., 0., ..., 0., 1., 0.],\n",
              "       [0., 0., 0., ..., 0., 0., 0.],\n",
              "       [0., 0., 0., ..., 1., 0., 0.],\n",
              "       ...,\n",
              "       [0., 0., 0., ..., 0., 0., 0.],\n",
              "       [0., 0., 0., ..., 0., 0., 0.],\n",
              "       [0., 0., 1., ..., 0., 0., 0.]], dtype=float32)"
            ]
          },
          "metadata": {},
          "execution_count": 53
        }
      ],
      "source": [
        "y_true_one_hot"
      ]
    },
    {
      "cell_type": "code",
      "execution_count": 54,
      "id": "6v4MuLA9SD_s",
      "metadata": {
        "id": "6v4MuLA9SD_s"
      },
      "outputs": [],
      "source": [
        "# converting into tokens\n",
        "from keras.preprocessing.text import Tokenizer\n",
        "tokenizer = Tokenizer(oov_token=\"<nothing>\")"
      ]
    },
    {
      "cell_type": "code",
      "execution_count": 55,
      "id": "RCVa1yfISVIW",
      "metadata": {
        "id": "RCVa1yfISVIW"
      },
      "outputs": [],
      "source": [
        "tokenizer.fit_on_texts(X)"
      ]
    },
    {
      "cell_type": "code",
      "execution_count": 56,
      "id": "KFKL7yrmSclu",
      "metadata": {
        "colab": {
          "base_uri": "https://localhost:8080/"
        },
        "id": "KFKL7yrmSclu",
        "outputId": "7b202f60-5b19-4b84-f460-4b17b4daf49b"
      },
      "outputs": [
        {
          "output_type": "execute_result",
          "data": {
            "text/plain": [
              "{'<nothing>': 1,\n",
              " 'gate': 2,\n",
              " 'on': 3,\n",
              " 'out': 4,\n",
              " 'of': 5,\n",
              " 'in': 6,\n",
              " 'loaded': 7,\n",
              " 'load': 8,\n",
              " 'discharge': 9,\n",
              " 'departure': 10,\n",
              " 'port': 11,\n",
              " 'rail': 12,\n",
              " 'at': 13,\n",
              " 'empty': 14,\n",
              " 'time': 15,\n",
              " 'transshipment': 16,\n",
              " 'arrival': 17,\n",
              " 'landing': 18,\n",
              " 'from': 19,\n",
              " 'to': 20,\n",
              " 'actual': 21,\n",
              " 'shipper': 22,\n",
              " 'vessel': 23,\n",
              " 'export': 24,\n",
              " 'expected': 25,\n",
              " 'full': 26,\n",
              " 'container': 27,\n",
              " 'unloaded': 28,\n",
              " 'import': 29,\n",
              " 'first': 30,\n",
              " 'off': 31,\n",
              " 'loading': 32,\n",
              " 'discharging': 33,\n",
              " 'board': 34,\n",
              " 'outbound': 35,\n",
              " 'terminal': 36,\n",
              " 'freight': 37,\n",
              " 'station': 38,\n",
              " 'release': 39,\n",
              " 'returned': 40,\n",
              " 'customer': 41,\n",
              " 'toll': 42,\n",
              " 'plaza': 43,\n",
              " 'crossed': 44,\n",
              " 'train': 45,\n",
              " 'update': 46,\n",
              " 'transit': 47,\n",
              " 'dest': 48,\n",
              " 'ramp': 49,\n",
              " 'place': 50,\n",
              " 'delivery': 51,\n",
              " 'for': 52,\n",
              " 'estimated': 53,\n",
              " 'yard': 54,\n",
              " 'final': 55,\n",
              " 'door': 56,\n",
              " 'unloading': 57}"
            ]
          },
          "metadata": {},
          "execution_count": 56
        }
      ],
      "source": [
        "# total unique words are 57\n",
        "tokenizer.word_index"
      ]
    },
    {
      "cell_type": "code",
      "execution_count": 57,
      "id": "c0hIGAhTSjBa",
      "metadata": {
        "colab": {
          "base_uri": "https://localhost:8080/"
        },
        "id": "c0hIGAhTSjBa",
        "outputId": "5bf27cf8-b2d2-4419-9f09-64ec31c9b0f8"
      },
      "outputs": [
        {
          "output_type": "execute_result",
          "data": {
            "text/plain": [
              "OrderedDict([('port', 135),\n",
              "             ('out', 205),\n",
              "             ('terminal', 14),\n",
              "             ('in', 186),\n",
              "             ('vessel', 46),\n",
              "             ('departure', 142),\n",
              "             ('from', 59),\n",
              "             ('first', 31),\n",
              "             ('of', 188),\n",
              "             ('landing', 61),\n",
              "             ('arrival', 63),\n",
              "             ('at', 102),\n",
              "             ('final', 1),\n",
              "             ('discharge', 147),\n",
              "             ('gate', 338),\n",
              "             ('load', 148),\n",
              "             ('on', 252),\n",
              "             ('rail', 118),\n",
              "             ('off', 25),\n",
              "             ('empty', 95),\n",
              "             ('toll', 10),\n",
              "             ('plaza', 10),\n",
              "             ('crossed', 10),\n",
              "             ('container', 38),\n",
              "             ('freight', 13),\n",
              "             ('station', 13),\n",
              "             ('release', 11),\n",
              "             ('to', 59),\n",
              "             ('shipper', 47),\n",
              "             ('outbound', 17),\n",
              "             ('loaded', 183),\n",
              "             ('loading', 23),\n",
              "             ('discharging', 22),\n",
              "             ('unloaded', 37),\n",
              "             ('returned', 11),\n",
              "             ('customer', 11),\n",
              "             ('door', 1),\n",
              "             ('yard', 2),\n",
              "             ('unloading', 1),\n",
              "             ('actual', 50),\n",
              "             ('time', 74),\n",
              "             ('expected', 44),\n",
              "             ('board', 18),\n",
              "             ('full', 39),\n",
              "             ('for', 4),\n",
              "             ('export', 45),\n",
              "             ('train', 10),\n",
              "             ('import', 36),\n",
              "             ('transshipment', 67),\n",
              "             ('update', 8),\n",
              "             ('transit', 8),\n",
              "             ('dest', 8),\n",
              "             ('ramp', 8),\n",
              "             ('place', 8),\n",
              "             ('delivery', 8),\n",
              "             ('estimated', 4)])"
            ]
          },
          "metadata": {},
          "execution_count": 57
        }
      ],
      "source": [
        "tokenizer.word_counts"
      ]
    },
    {
      "cell_type": "code",
      "execution_count": 58,
      "id": "cqum1zM6SqIJ",
      "metadata": {
        "id": "cqum1zM6SqIJ"
      },
      "outputs": [],
      "source": [
        "# turning text into sequences\n",
        "X = tokenizer.texts_to_sequences(X)"
      ]
    },
    {
      "cell_type": "code",
      "execution_count": 62,
      "id": "Gm0CTXbPtScD",
      "metadata": {
        "colab": {
          "base_uri": "https://localhost:8080/"
        },
        "id": "Gm0CTXbPtScD",
        "outputId": "01152f16-92aa-404e-b2a3-dc512b4a1858"
      },
      "outputs": [
        {
          "output_type": "execute_result",
          "data": {
            "text/plain": [
              "[[11, 4],\n",
              " [36, 6],\n",
              " [11, 6],\n",
              " [23, 10, 19, 30, 11, 5, 18],\n",
              " [23, 17, 13, 55, 11, 5, 9],\n",
              " [10],\n",
              " [2, 6],\n",
              " [8, 3],\n",
              " [9],\n",
              " [2, 4],\n",
              " [2, 6],\n",
              " [8, 3],\n",
              " [9],\n",
              " [2, 4],\n",
              " [10],\n",
              " [2, 6],\n",
              " [8, 3],\n",
              " [9],\n",
              " [2, 4],\n",
              " [2, 6]]"
            ]
          },
          "metadata": {},
          "execution_count": 62
        }
      ],
      "source": [
        "X[0:20]"
      ]
    },
    {
      "cell_type": "code",
      "execution_count": null,
      "id": "KSmDEZSiTF-v",
      "metadata": {
        "colab": {
          "base_uri": "https://localhost:8080/"
        },
        "id": "KSmDEZSiTF-v",
        "outputId": "cb4ba6bc-5cb0-4c72-81ae-5a9edf158278"
      },
      "outputs": [
        {
          "output_type": "execute_result",
          "data": {
            "text/plain": [
              "array([[11,  4,  0, ...,  0,  0,  0],\n",
              "       [36,  6,  0, ...,  0,  0,  0],\n",
              "       [11,  6,  0, ...,  0,  0,  0],\n",
              "       ...,\n",
              "       [26, 16,  7, ...,  0,  0,  0],\n",
              "       [24,  7,  3, ...,  0,  0,  0],\n",
              "       [14, 20, 22, ...,  0,  0,  0]], dtype=int32)"
            ]
          },
          "metadata": {},
          "execution_count": 106
        }
      ],
      "source": [
        "# padding the tokens to match all the other inputs\n",
        "from keras.utils import pad_sequences\n",
        "\n",
        "X = pad_sequences(X, padding='post',maxlen=57)\n",
        "X"
      ]
    },
    {
      "cell_type": "code",
      "execution_count": null,
      "id": "judYNIEVTpFB",
      "metadata": {
        "colab": {
          "base_uri": "https://localhost:8080/"
        },
        "id": "judYNIEVTpFB",
        "outputId": "a1e02a5e-e52b-4d59-f8cd-b5e366f9696a"
      },
      "outputs": [
        {
          "output_type": "execute_result",
          "data": {
            "text/plain": [
              "array([11,  4,  0,  0,  0,  0,  0,  0,  0,  0,  0,  0,  0,  0,  0,  0,  0,\n",
              "        0,  0,  0,  0,  0,  0,  0,  0,  0,  0,  0,  0,  0,  0,  0,  0,  0,\n",
              "        0,  0,  0,  0,  0,  0,  0,  0,  0,  0,  0,  0,  0,  0,  0,  0,  0,\n",
              "        0,  0,  0,  0,  0,  0], dtype=int32)"
            ]
          },
          "metadata": {},
          "execution_count": 107
        }
      ],
      "source": [
        "X[0]"
      ]
    },
    {
      "cell_type": "code",
      "execution_count": null,
      "id": "HZf9-UVNT7ok",
      "metadata": {
        "colab": {
          "base_uri": "https://localhost:8080/"
        },
        "id": "HZf9-UVNT7ok",
        "outputId": "de6d6b42-e813-484d-8c87-a616098053d5"
      },
      "outputs": [
        {
          "output_type": "execute_result",
          "data": {
            "text/plain": [
              "(1222, 57)"
            ]
          },
          "metadata": {},
          "execution_count": 108
        }
      ],
      "source": [
        "X.shape"
      ]
    },
    {
      "cell_type": "code",
      "execution_count": null,
      "id": "8V4grj866qRh",
      "metadata": {
        "id": "8V4grj866qRh"
      },
      "outputs": [],
      "source": [
        "from sklearn.model_selection import train_test_split\n",
        "X_train,X_test,y_train,y_test = train_test_split(X,y_true_one_hot, test_size=0.2)"
      ]
    },
    {
      "cell_type": "code",
      "execution_count": null,
      "id": "oT9-iU1s2orS",
      "metadata": {
        "colab": {
          "base_uri": "https://localhost:8080/"
        },
        "id": "oT9-iU1s2orS",
        "outputId": "3aace8bc-136a-441e-d9fc-9e71dca9521d"
      },
      "outputs": [
        {
          "output_type": "stream",
          "name": "stdout",
          "text": [
            "Model: \"sequential_5\"\n",
            "_________________________________________________________________\n",
            " Layer (type)                Output Shape              Param #   \n",
            "=================================================================\n",
            " embedding_5 (Embedding)     (None, 57, 25)            1450      \n",
            "                                                                 \n",
            " simple_rnn_5 (SimpleRNN)    (None, 32)                1856      \n",
            "                                                                 \n",
            " dense_5 (Dense)             (None, 15)                495       \n",
            "                                                                 \n",
            "=================================================================\n",
            "Total params: 3801 (14.85 KB)\n",
            "Trainable params: 3801 (14.85 KB)\n",
            "Non-trainable params: 0 (0.00 Byte)\n",
            "_________________________________________________________________\n"
          ]
        }
      ],
      "source": [
        "# using embedding to output into 25 dimensions to catch the meanings of words\n",
        "from keras import Sequential\n",
        "from keras.layers import Dense, SimpleRNN, Embedding\n",
        "\n",
        "model = Sequential()\n",
        "\n",
        "model.add(Embedding(input_dim=58, output_dim=25, input_length=57))\n",
        "\n",
        "model.add(SimpleRNN(32,return_sequences=False))\n",
        "\n",
        "\n",
        "model.add(Dense(15,activation='softmax'))\n",
        "\n",
        "model.summary()"
      ]
    },
    {
      "cell_type": "code",
      "execution_count": null,
      "id": "yAPRkds63fhn",
      "metadata": {
        "colab": {
          "base_uri": "https://localhost:8080/"
        },
        "id": "yAPRkds63fhn",
        "outputId": "578f051f-b7df-456b-e70b-3ac0b3939830"
      },
      "outputs": [
        {
          "output_type": "stream",
          "name": "stdout",
          "text": [
            "Epoch 1/15\n",
            "31/31 [==============================] - 4s 43ms/step - loss: 2.3556 - accuracy: 0.4391 - precision: 0.4391 - recall: 0.4391 - val_loss: 1.7956 - val_accuracy: 0.8245 - val_precision: 0.8245 - val_recall: 0.8245\n",
            "Epoch 2/15\n",
            "31/31 [==============================] - 1s 26ms/step - loss: 1.4098 - accuracy: 0.8383 - precision: 0.8383 - recall: 0.8383 - val_loss: 0.9975 - val_accuracy: 0.8653 - val_precision: 0.8653 - val_recall: 0.8653\n",
            "Epoch 3/15\n",
            "31/31 [==============================] - 1s 27ms/step - loss: 0.8300 - accuracy: 0.8772 - precision: 0.8772 - recall: 0.8772 - val_loss: 0.6313 - val_accuracy: 0.8898 - val_precision: 0.8898 - val_recall: 0.8898\n",
            "Epoch 4/15\n",
            "31/31 [==============================] - 1s 26ms/step - loss: 0.5558 - accuracy: 0.9304 - precision: 0.9304 - recall: 0.9304 - val_loss: 0.4423 - val_accuracy: 0.9388 - val_precision: 0.9388 - val_recall: 0.9388\n",
            "Epoch 5/15\n",
            "31/31 [==============================] - 1s 17ms/step - loss: 0.4052 - accuracy: 0.9642 - precision: 0.9642 - recall: 0.9642 - val_loss: 0.3435 - val_accuracy: 0.9633 - val_precision: 0.9633 - val_recall: 0.9633\n",
            "Epoch 6/15\n",
            "31/31 [==============================] - 1s 17ms/step - loss: 0.3146 - accuracy: 0.9724 - precision: 0.9724 - recall: 0.9724 - val_loss: 0.2835 - val_accuracy: 0.9673 - val_precision: 0.9673 - val_recall: 0.9673\n",
            "Epoch 7/15\n",
            "31/31 [==============================] - 1s 17ms/step - loss: 0.2529 - accuracy: 0.9765 - precision: 0.9765 - recall: 0.9765 - val_loss: 0.2345 - val_accuracy: 0.9673 - val_precision: 0.9673 - val_recall: 0.9673\n",
            "Epoch 8/15\n",
            "31/31 [==============================] - 0s 16ms/step - loss: 0.2361 - accuracy: 0.9806 - precision: 0.9806 - recall: 0.9806 - val_loss: 0.2419 - val_accuracy: 0.9714 - val_precision: 0.9714 - val_recall: 0.9714\n",
            "Epoch 9/15\n",
            "31/31 [==============================] - 1s 17ms/step - loss: 0.2319 - accuracy: 0.9734 - precision: 0.9734 - recall: 0.9734 - val_loss: 0.1886 - val_accuracy: 0.9796 - val_precision: 0.9796 - val_recall: 0.9796\n",
            "Epoch 10/15\n",
            "31/31 [==============================] - 1s 16ms/step - loss: 0.1777 - accuracy: 0.9846 - precision: 0.9846 - recall: 0.9846 - val_loss: 0.1519 - val_accuracy: 0.9837 - val_precision: 0.9837 - val_recall: 0.9837\n",
            "Epoch 11/15\n",
            "31/31 [==============================] - 1s 17ms/step - loss: 0.1400 - accuracy: 0.9908 - precision: 0.9908 - recall: 0.9908 - val_loss: 0.1273 - val_accuracy: 0.9837 - val_precision: 0.9837 - val_recall: 0.9837\n",
            "Epoch 12/15\n",
            "31/31 [==============================] - 1s 17ms/step - loss: 0.1126 - accuracy: 0.9939 - precision: 0.9939 - recall: 0.9939 - val_loss: 0.1124 - val_accuracy: 0.9878 - val_precision: 0.9878 - val_recall: 0.9878\n",
            "Epoch 13/15\n",
            "31/31 [==============================] - 1s 17ms/step - loss: 0.0974 - accuracy: 0.9959 - precision: 0.9959 - recall: 0.9959 - val_loss: 0.1037 - val_accuracy: 0.9878 - val_precision: 0.9878 - val_recall: 0.9878\n",
            "Epoch 14/15\n",
            "31/31 [==============================] - 0s 16ms/step - loss: 0.0817 - accuracy: 0.9969 - precision: 0.9969 - recall: 0.9969 - val_loss: 0.0971 - val_accuracy: 0.9878 - val_precision: 0.9878 - val_recall: 0.9878\n",
            "Epoch 15/15\n",
            "31/31 [==============================] - 1s 16ms/step - loss: 0.0718 - accuracy: 0.9980 - precision: 0.9980 - recall: 0.9980 - val_loss: 0.0894 - val_accuracy: 0.9837 - val_precision: 0.9837 - val_recall: 0.9837\n"
          ]
        }
      ],
      "source": [
        "from keras import metrics\n",
        "my_metrics = [\n",
        "    metrics.CategoricalAccuracy(name='accuracy'),\n",
        "    metrics.CategoricalAccuracy(name='precision'),\n",
        "    metrics.CategoricalAccuracy(name='recall')\n",
        "]\n",
        "model.compile(metrics=my_metrics,loss='categorical_crossentropy',optimizer='adam')\n",
        "# history = model.fit(X_train,y_train, epochs=15, validation_data=(X_test,y_test))\n",
        "history = model.fit(X_train,y_train, epochs=15, validation_data=(X_test,y_test))"
      ]
    },
    {
      "cell_type": "code",
      "execution_count": null,
      "id": "6alMZtG_5Zh8",
      "metadata": {
        "id": "6alMZtG_5Zh8",
        "colab": {
          "base_uri": "https://localhost:8080/",
          "height": 448
        },
        "outputId": "5f5f2ee6-8ea6-400b-aaa0-f8cd3d300722"
      },
      "outputs": [
        {
          "output_type": "execute_result",
          "data": {
            "text/plain": [
              "[<matplotlib.lines.Line2D at 0x7a51d8682710>]"
            ]
          },
          "metadata": {},
          "execution_count": 119
        },
        {
          "output_type": "display_data",
          "data": {
            "text/plain": [
              "<Figure size 640x480 with 1 Axes>"
            ],
            "image/png": "[encoded data removed]"
          },
          "metadata": {}
        }
      ],
      "source": [
        "# as you can see that both validation and training accuracy and loss matches Ive also checked precision and recall they are also toe to toe with\n",
        "# each other which explains there is no overfitting involved in this scenario\n",
        "import matplotlib.pyplot as plt\n",
        "plt.plot(history.history['loss'])\n",
        "plt.plot(history.history['val_loss'])"
      ]
    },
    {
      "cell_type": "code",
      "execution_count": null,
      "id": "GR1SQQ6W8LGu",
      "metadata": {
        "id": "GR1SQQ6W8LGu",
        "colab": {
          "base_uri": "https://localhost:8080/",
          "height": 448
        },
        "outputId": "1ac03813-9988-4963-9be2-cd7c21139ebe"
      },
      "outputs": [
        {
          "output_type": "execute_result",
          "data": {
            "text/plain": [
              "[<matplotlib.lines.Line2D at 0x7a51d75debf0>]"
            ]
          },
          "metadata": {},
          "execution_count": 120
        },
        {
          "output_type": "display_data",
          "data": {
            "text/plain": [
              "<Figure size 640x480 with 1 Axes>"
            ],
            "image/png": "[encoded data removed]"
          },
          "metadata": {}
        }
      ],
      "source": [
        "import matplotlib.pyplot as plt\n",
        "plt.plot(history.history['accuracy'])\n",
        "plt.plot(history.history['val_accuracy'])"
      ]
    },
    {
      "cell_type": "code",
      "execution_count": null,
      "id": "XYuF_9b6NsTK",
      "metadata": {
        "id": "XYuF_9b6NsTK"
      },
      "outputs": [],
      "source": [
        "# streamlining the model to any inputs\n",
        "from keras.preprocessing.text import Tokenizer\n",
        "\n",
        "def predict(text):\n",
        "    # cleaning the text\n",
        "    cleaned_text = clean(text)\n",
        "\n",
        "    # tokenize the data\n",
        "    text_token = tokenizer.texts_to_sequences([cleaned_text])\n",
        "\n",
        "    # pad it to the desired dimension\n",
        "    padded_text = pad_sequences(text_token, padding='post',maxlen=57)\n",
        "\n",
        "    # reshaping the padded output\n",
        "    final_text = padded_text\n",
        "\n",
        "    # Predict on the input data\n",
        "    predictions = model.predict(final_text)\n",
        "\n",
        "    # Finding the maximum prediction amongst the classes\n",
        "    predicted_class_index = np.argmax(predictions)\n",
        "\n",
        "    # all the class list\n",
        "    class_labels = encoder.classes_.tolist()\n",
        "\n",
        "    # extracting the label from the list\n",
        "    predicted_class_label = class_labels[predicted_class_index]\n",
        "\n",
        "    return {text :predicted_class_label}"
      ]
    },
    {
      "cell_type": "code",
      "execution_count": null,
      "id": "ekBEaNRUspS0",
      "metadata": {
        "id": "ekBEaNRUspS0",
        "colab": {
          "base_uri": "https://localhost:8080/"
        },
        "outputId": "7f133425-99b7-4904-ca49-267d0d68e443"
      },
      "outputs": [
        {
          "output_type": "stream",
          "name": "stdout",
          "text": [
            "1/1 [==============================] - 0s 38ms/step\n"
          ]
        },
        {
          "output_type": "execute_result",
          "data": {
            "text/plain": [
              "{'Unloaded PRSJU': 'Unloaded on Vessel'}"
            ]
          },
          "metadata": {},
          "execution_count": 124
        }
      ],
      "source": [
        "text = \"Unloaded PRSJU\"\n",
        "predict(text)"
      ]
    },
    {
      "cell_type": "code",
      "execution_count": null,
      "id": "LHjBMYUHxBpW",
      "metadata": {
        "id": "LHjBMYUHxBpW"
      },
      "outputs": [],
      "source": [
        "# pickling the import functions and model to use as an api in pycharm\n",
        "import pickle\n",
        "\n",
        "with open(\"model.pkl\",'wb') as f:\n",
        "  pickle.dump(model,f)"
      ]
    },
    {
      "cell_type": "code",
      "source": [
        "with open(\"tokenizer.pkl\",'wb') as t:\n",
        "  pickle.dump(tokenizer,t)"
      ],
      "metadata": {
        "id": "ceebF3vbCYYL"
      },
      "id": "ceebF3vbCYYL",
      "execution_count": null,
      "outputs": []
    },
    {
      "cell_type": "code",
      "source": [],
      "metadata": {
        "id": "yfn8XPBLXwF7"
      },
      "id": "yfn8XPBLXwF7",
      "execution_count": null,
      "outputs": []
    }
  ],
  "metadata": {
    "accelerator": "GPU",
    "colab": {
      "gpuType": "T4",
      "provenance": []
    },
    "kernelspec": {
      "display_name": "Python 3",
      "name": "python3"
    },
    "language_info": {
      "codemirror_mode": {
        "name": "ipython",
        "version": 3
      },
      "file_extension": ".py",
      "mimetype": "text/x-python",
      "name": "python",
      "nbconvert_exporter": "python",
      "pygments_lexer": "ipython3",
      "version": "3.9.12"
    }
  },
  "nbformat": 4,
  "nbformat_minor": 5
}